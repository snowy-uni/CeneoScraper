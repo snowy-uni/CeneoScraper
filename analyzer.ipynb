{
 "cells": [
  {
   "cell_type": "markdown",
   "id": "12d75f86",
   "metadata": {},
   "source": [
    "### Import bibliotek"
   ]
  },
  {
   "cell_type": "code",
   "execution_count": 54,
   "id": "fef8aea2",
   "metadata": {},
   "outputs": [],
   "source": [
    "import os\n",
    "import json\n",
    "import pandas as pd\n",
    "import numpy as np\n",
    "from matplotlib import pyplot as plt"
   ]
  },
  {
   "cell_type": "markdown",
   "id": "ba94c14f",
   "metadata": {},
   "source": [
    "### Wczytanie i przygotowanie danych"
   ]
  },
  {
   "cell_type": "code",
   "execution_count": 55,
   "id": "602f23ff",
   "metadata": {},
   "outputs": [
    {
     "name": "stdout",
     "output_type": "stream",
     "text": [
      "147751861, 84514582, 96964384\n"
     ]
    }
   ],
   "source": [
    "# Wyświetlenie listy kodów produktów z pobranymi opiniami\n",
    "dir__list = os.listdir('./opinions')\n",
    "\n",
    "ids__list = [name.removesuffix('.json') for name in dir__list]\n",
    "print(*ids__list, sep=', ')\n"
   ]
  },
  {
   "cell_type": "code",
   "execution_count": null,
   "id": "0d470468",
   "metadata": {},
   "outputs": [],
   "source": [
    "# Wczytanie danych z pliku .json do obkiektu przypominającego tabelę\n",
    "id = input(\"Podaj kod produktu:\")\n",
    "reviews = pd.read_json(f'./opinions/{id}.json').set_index('review_id')\n",
    "\n"
   ]
  },
  {
   "cell_type": "code",
   "execution_count": 57,
   "id": "3a7e95df",
   "metadata": {},
   "outputs": [],
   "source": [
    "reviews.score = reviews.score.apply(lambda s: s.split('/')[0].replace(',','.')).astype(float)\n",
    "reviews.likes = reviews.likes.astype(int)\n",
    "reviews.dislikes = reviews.dislikes.astype(int)"
   ]
  },
  {
   "cell_type": "markdown",
   "id": "f825464a",
   "metadata": {},
   "source": [
    "### Podstawowe Statystyki"
   ]
  },
  {
   "cell_type": "code",
   "execution_count": 58,
   "id": "4bb1c77d",
   "metadata": {},
   "outputs": [
    {
     "name": "stdout",
     "output_type": "stream",
     "text": [
      "liczba opinii o produkcie: 500\n",
      "liczba opinii o przy których podana została lista zalet: 324\n",
      "liczba opinii o przy których podana została lista wad: 116\n",
      "liczba opinii o przy których podana została lista wad i zalet: 114\n",
      "średnia ocena produktu: 4.76\n"
     ]
    }
   ],
   "source": [
    "reviews_count = len(reviews.index)\n",
    "pros_count = reviews.pros.astype(bool).sum()\n",
    "cons_count =  reviews.cons.astype(bool).sum()\n",
    "pros_cons_count = reviews.apply(lambda r: bool(r.pros) and bool(r.cons), axis=1).sum()\n",
    "average_score = round(reviews.score.mean(), 2)\n",
    "\n",
    "pros = reviews.pros.explode().value_counts()\n",
    "cons = reviews.cons.explode().value_counts()\n",
    "\n",
    "print(f'liczba opinii o produkcie: {reviews_count}')\n",
    "print(f'liczba opinii o przy których podana została lista zalet: {pros_count}')\n",
    "print(f'liczba opinii o przy których podana została lista wad: {cons_count}')\n",
    "print(f'liczba opinii o przy których podana została lista wad i zalet: {pros_cons_count}')\n",
    "print(f'średnia ocena produktu: {average_score}')"
   ]
  },
  {
   "cell_type": "markdown",
   "id": "dbb3176d",
   "metadata": {},
   "source": [
    "### Wykresy"
   ]
  },
  {
   "cell_type": "code",
   "execution_count": 63,
   "id": "243eff68",
   "metadata": {},
   "outputs": [
    {
     "name": "stdout",
     "output_type": "stream",
     "text": [
      "recomendation\n",
      "Nie polecam     12\n",
      "Polecam        480\n",
      "None             8\n",
      "Name: count, dtype: int64\n"
     ]
    },
    {
     "data": {
      "text/plain": [
       "<Axes: >"
      ]
     },
     "execution_count": 63,
     "metadata": {},
     "output_type": "execute_result"
    },
    {
     "data": {
      "image/png": "[encoded data removed]",
      "text/plain": [
       "<Figure size 640x480 with 1 Axes>"
      ]
     },
     "metadata": {},
     "output_type": "display_data"
    }
   ],
   "source": [
    "recomendation = (\n",
    "    reviews.recomendation.explode()\n",
    "    .value_counts(dropna=False)\n",
    "    .reindex([\"Nie polecam\", \"Polecam\", None], fill_value=0)\n",
    ")\n",
    "print(recomendation)\n",
    "recomendation.plot.pie(\n",
    "    label=\"\",\n",
    "    labels=[\"Nie polecam\", \"Polecam\", \"Nie mam zdania\"],\n",
    "    colors=[\"crimson\", \"forestgreen\", \"lemonchiffon\"],\n",
    "    autopct= lambda x: f\"{x: 1.2f}%\" if x > 0 else ''\n",
    ")"
   ]
  }
 ],
 "metadata": {
  "kernelspec": {
   "display_name": ".venv",
   "language": "python",
   "name": "python3"
  },
  "language_info": {
   "codemirror_mode": {
    "name": "ipython",
    "version": 3
   },
   "file_extension": ".py",
   "mimetype": "text/x-python",
   "name": "python",
   "nbconvert_exporter": "python",
   "pygments_lexer": "ipython3",
   "version": "3.13.0"
  }
 },
 "nbformat": 4,
 "nbformat_minor": 5
}
