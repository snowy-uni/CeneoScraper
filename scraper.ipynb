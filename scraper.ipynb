{
 "cells": [
  {
   "cell_type": "markdown",
   "metadata": {},
   "source": [
    "### Import bibliotek"
   ]
  },
  {
   "cell_type": "code",
   "execution_count": null,
   "metadata": {},
   "outputs": [],
   "source": [
    "import requests\n",
    "from bs4 import BeautifulSoup"
   ]
  },
  {
   "cell_type": "markdown",
   "metadata": {},
   "source": [
    "### Wysyłanie żądania dostępu do strony z opiniami o produkcie"
   ]
  },
  {
   "cell_type": "code",
   "execution_count": null,
   "metadata": {},
   "outputs": [],
   "source": [
    "url = 'https://www.ceneo.pl/84514582#tab=reviews'\n",
    "res = requests.get(url)\n",
    "if res.status_code == 200:\n",
    "    page_dom = BeautifulSoup(res.text, \"html.parser\")\n",
    "\n",
    "    reviews = page_dom.select('div.js_product-review:not(.user-post--highlight)')\n",
    "    for review in reviews:\n",
    "        try:\n",
    "            single_review = {\n",
    "                \"review_id\":review.attrs['data-entry-id'],\n",
    "                \"author\": review.select_one('.user-post__author-name').text.strip(),\n",
    "                \"content\": review.select_one('.user-post__text').text.strip(),\n",
    "                \"score\": review.select_one('.user-post__score .user-post__score-count').text.strip(),\n",
    "                \"recomendation\": review.select_one('.user-post__author-recomendation > em').text.strip() ,\n",
    "                \"pros\":[item.text.strip() for item in review.select('.review-feature__item.review-feature__item--positive')],\n",
    "                \"cons\":[item.text.strip() for item in review.select('.review-feature__item.review-feature__item--negative')],\n",
    "                \"likes\": review.select_one('.vote-yes > span').text.strip(),\n",
    "                \"dislikes\": review.select_one('.vote-no > span').text.strip(),\n",
    "                \"publish_date\": review.select_one(\".user-post__published time:nth-of-type(1)\")['datetime'].strip(),\n",
    "                \"purchase_date\": review.select_one(\".user-post__published time:nth-of-type(2)\")['datetime'].strip(),\n",
    "            \n",
    "                }\n",
    "            print(single_review)\n",
    "        except (AttributeError, TypeError):\n",
    "            pass\n",
    "    "
   ]
  },
  {
   "cell_type": "markdown",
   "metadata": {},
   "source": []
  },
  {
   "cell_type": "code",
   "execution_count": null,
   "metadata": {},
   "outputs": [],
   "source": []
  },
  {
   "cell_type": "code",
   "execution_count": null,
   "metadata": {},
   "outputs": [],
   "source": []
  },
  {
   "cell_type": "code",
   "execution_count": null,
   "metadata": {},
   "outputs": [],
   "source": []
  }
 ],
 "metadata": {
  "kernelspec": {
   "display_name": ".venv",
   "language": "python",
   "name": "python3"
  },
  "language_info": {
   "codemirror_mode": {
    "name": "ipython",
    "version": 3
   },
   "file_extension": ".py",
   "mimetype": "text/x-python",
   "name": "python",
   "nbconvert_exporter": "python",
   "pygments_lexer": "ipython3",
   "version": "3.13.0"
  }
 },
 "nbformat": 4,
 "nbformat_minor": 2
}
