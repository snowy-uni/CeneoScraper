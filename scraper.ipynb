{
 "cells": [
  {
   "cell_type": "markdown",
   "metadata": {},
   "source": [
    "### Import bibliotek"
   ]
  },
  {
   "cell_type": "code",
   "execution_count": 23,
   "metadata": {},
   "outputs": [],
   "source": [
    "import requests\n",
    "from bs4 import BeautifulSoup\n",
    "import json\n",
    "import os"
   ]
  },
  {
   "cell_type": "markdown",
   "metadata": {},
   "source": [
    "### Narzędzia"
   ]
  },
  {
   "cell_type": "code",
   "execution_count": null,
   "metadata": {},
   "outputs": [],
   "source": [
    "def extract(ancestor, selector=None, attribute=None, many=False):\n",
    "    if selector:\n",
    "        if many:\n",
    "            if attribute:\n",
    "                return [item[attribute].strip() for item in ancestor.select(selector)]\n",
    "            return [item.text.strip() for item in ancestor.select(selector)]\n",
    "        if attribute:\n",
    "            try:\n",
    "                return ancestor.select_one(selector)[attribute].strip()\n",
    "            except TypeError:\n",
    "                return None\n",
    "        try:\n",
    "            return ancestor.select_one(selector).text.strip()\n",
    "        except AttributeError:\n",
    "            return None\n",
    "\n",
    "    if attribute:\n",
    "        return ancestor[attribute]\n",
    "    return ancestor.text.strip()\n",
    "\n",
    "\n",
    "review_scheme = {\n",
    "    \"review_id\": (None, \"data-entry-id\"),\n",
    "    \"author\": (\".user-post__author-name\",),\n",
    "    \"content\": (\".user-post__text\",),\n",
    "    \"score\": (\".user-post__score .user-post__score-count\",),\n",
    "    \"recomendation\": (\".user-post__author-recomendation > em\",),\n",
    "    \"pros\": (\".review-feature__item.review-feature__item--positive\", None, True),\n",
    "    \"cons\": (\".review-feature__item.review-feature__item--negative\", None, True),\n",
    "    \"likes\": (\".vote-yes > span\",),\n",
    "    \"dislikes\": (\".vote-no > span\",),\n",
    "    \"publish_date\": (\".user-post__published time:nth-of-type(1)\", \"datetime\"),\n",
    "    \"purchase_date\": (\".user-post__published time:nth-of-type(2)\", \"datetime\"),\n",
    "}"
   ]
  },
  {
   "cell_type": "markdown",
   "metadata": {},
   "source": [
    "### Pobranie ze strony Ceneo.pl opinii o konkretnym produkcie"
   ]
  },
  {
   "cell_type": "code",
   "execution_count": 25,
   "metadata": {},
   "outputs": [],
   "source": [
    "\n",
    "\n",
    "with open(\"./headers.json\", \"r\") as file:\n",
    "    headers = json.load(file)\n"
   ]
  },
  {
   "cell_type": "code",
   "execution_count": 26,
   "metadata": {},
   "outputs": [
    {
     "name": "stdout",
     "output_type": "stream",
     "text": [
      "200\n",
      "https://www.ceneo.pl/96964384#tab=reviews\n",
      "10\n",
      "200\n",
      "https://www.ceneo.pl/96964384/opinie-2\n",
      "20\n",
      "200\n",
      "https://www.ceneo.pl/96964384/opinie-3\n",
      "30\n",
      "200\n",
      "https://www.ceneo.pl/96964384/opinie-4\n",
      "40\n",
      "200\n",
      "https://www.ceneo.pl/96964384/opinie-5\n",
      "50\n",
      "200\n",
      "https://www.ceneo.pl/96964384/opinie-6\n",
      "60\n",
      "200\n",
      "https://www.ceneo.pl/96964384/opinie-7\n",
      "70\n",
      "200\n",
      "https://www.ceneo.pl/96964384/opinie-8\n",
      "80\n",
      "200\n",
      "https://www.ceneo.pl/96964384/opinie-9\n",
      "90\n",
      "200\n",
      "https://www.ceneo.pl/96964384/opinie-10\n",
      "98\n"
     ]
    }
   ],
   "source": [
    "# product_id = \"84514582\"\n",
    "product_id = input('Podaj id produktu')\n",
    "next_page = f\"https://www.ceneo.pl/{product_id}#tab=reviews\"\n",
    "all_reviews = []\n",
    "while next_page:\n",
    "    res = requests.get(next_page, headers=headers)\n",
    "    print(res.status_code)\n",
    "    print(next_page)\n",
    "    if res.status_code == 200:\n",
    "\n",
    "        page_dom = BeautifulSoup(res.text, \"html.parser\")\n",
    "        reviews = page_dom.select(\"div.js_product-review:not(.user-post--highlight)\")\n",
    "\n",
    "        for review in reviews:\n",
    "            single_review = {\n",
    "                key: extract(review, *value) for key, value in review_scheme.items()\n",
    "            }\n",
    "            all_reviews.append(single_review)\n",
    "\n",
    "        print(len(all_reviews))\n",
    "\n",
    "        try:\n",
    "            next_page = \"https://www.ceneo.pl\" + extract(\n",
    "                page_dom, \".pagination__next\", \"href\"\n",
    "            )\n",
    "        except TypeError:\n",
    "            next_page = None"
   ]
  },
  {
   "cell_type": "markdown",
   "metadata": {},
   "source": []
  },
  {
   "cell_type": "markdown",
   "metadata": {},
   "source": [
    "### Zapisanie wszystkich opinii o konkretnym produkcie w bazie danych\n"
   ]
  },
  {
   "cell_type": "code",
   "execution_count": 27,
   "metadata": {},
   "outputs": [],
   "source": [
    "if not os.path.exists('./opinions'):\n",
    "    os.mkdir('./opinions')"
   ]
  },
  {
   "cell_type": "code",
   "execution_count": 28,
   "metadata": {},
   "outputs": [],
   "source": [
    "with open(f'./opinions/{product_id}.json', 'w', encoding=\"UTF-8\") as file:\n",
    "    json.dump(all_reviews, file, indent=4,ensure_ascii=False)"
   ]
  }
 ],
 "metadata": {
  "kernelspec": {
   "display_name": ".venv",
   "language": "python",
   "name": "python3"
  },
  "language_info": {
   "codemirror_mode": {
    "name": "ipython",
    "version": 3
   },
   "file_extension": ".py",
   "mimetype": "text/x-python",
   "name": "python",
   "nbconvert_exporter": "python",
   "pygments_lexer": "ipython3",
   "version": "3.13.0"
  }
 },
 "nbformat": 4,
 "nbformat_minor": 2
}
